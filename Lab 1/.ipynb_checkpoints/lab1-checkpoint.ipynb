{
 "cells": [
  {
   "cell_type": "markdown",
   "metadata": {},
   "source": [
    "<!-- -*- mode: markdown; coding: utf-8; fill-column: 60; ispell-dictionary: \"english\" -*- -->\n",
    "\n",
    "<meta charset=\"utf-8\"/>\n",
    "<meta name=\"viewport\" content=\"width=device-width,initial-scale=1\"/>\n",
    "<link rel=\"stylesheet\" href=\"style.css\">\n",
    "\n",
    "\n",
    "# EDAF75 - lab 1: SQL\n",
    "\n",
    "**Objective:** to practice writing SQL queries.\n",
    "\n",
    "This lab is meant to be run as a `jupyter` notebook, you can\n",
    "download it [here](lab1.zip) (the zip-file contains the\n",
    "notebook and the database, and a [.html-file](lab1.html)\n",
    "which you can read in case you have problems reading/running\n",
    "jupyter notebooks).\n",
    "\n",
    "## Background\n",
    "\n",
    "We have a database to handles the academic achievements of\n",
    "students at LTH -- in it we have three tables:\n",
    "\n",
    "<hr>\n",
    "<table rules=\"all\">\n",
    " <tr>\n",
    "  <th align=\"left\"><code>students:</code></th>\n",
    "  <th></th>\n",
    " </tr>\n",
    " <tr>\n",
    "  <td><code>ssn</code></td>\n",
    "  <td>social security number</td>\n",
    " </tr>\n",
    " <tr>\n",
    "  <td><code>first_name</code></td>\n",
    "  <td>first name (obviously!)</td>\n",
    " </tr>\n",
    " <tr>\n",
    "  <td><code>last_name</code></td>\n",
    "  <td>last name</td>\n",
    " </tr>\n",
    "</table>\n",
    "\n",
    "<hr>\n",
    "\n",
    "<table rules=\"all\">\n",
    " <tr>\n",
    "  <th align=\"left\"><code>courses:</code></th>\n",
    "  <th></th>\n",
    " </tr>\n",
    " <tr>\n",
    "  <td><code>course_code</code></td>\n",
    "  <td>course code, like <code>EDAF75</code></td>\n",
    " </tr>\n",
    " <tr>\n",
    "  <td><code>course_name</code></td>\n",
    "  <td>the name of the course, like \"Database Technology\"</td>\n",
    " </tr>\n",
    " <tr>\n",
    "  <td><code>level</code></td>\n",
    "  <td>the course level, like \"G1\", \"G2\", or \"A\"</td>\n",
    " </tr>\n",
    " <tr>\n",
    "  <td><code>credits</code></td>\n",
    "  <td>the number of credits for the course, like 7.5</td>\n",
    " </tr>\n",
    "</table>\n",
    "\n",
    "<hr>\n",
    "\n",
    "<table rules=\"all\">\n",
    " <tr>\n",
    "  <th align=\"left\"><code>taken_courses:</code></th>\n",
    "  <th></th>\n",
    " </tr>\n",
    " <tr>\n",
    "  <td><code>ssn</code></td>\n",
    "  <td>the social security number of a student</td>\n",
    " </tr>\n",
    " <tr>\n",
    "  <td><code>course_code</code></td>\n",
    "  <td>the course code for the course the student has taken</td>\n",
    " </tr>\n",
    " <tr>\n",
    "  <td><code>grade</code></td>\n",
    "  <td>the grade for the student passing the course</td>\n",
    " </tr>\n",
    "</table>\n",
    "\n",
    "<hr>\n",
    "\n",
    "<center>\n",
    "  <img src=\"lab1.png\">\n",
    "</center>\n",
    "\n",
    "Some sample data:"
   ]
  },
  {
   "cell_type": "markdown",
   "metadata": {},
   "source": [
    "```text\n",
    "ssn           first_name   last_name\n",
    "---           ----------   ---------\n",
    "861103–2438   Bo           Ek\n",
    "911212–1746   Eva          Alm\n",
    "950829–1848   Anna         Nyström\n",
    "...           ...          ...\n",
    "\n",
    "course_code   course_name                   level    credits\n",
    "-----------   -----------                   -----    -------\n",
    "EDA016        Programmeringsteknik          G1       7.5\n",
    "EDAA01        Programmeringsteknik - FK     G1       7.5\n",
    "EDA230        Optimerande kompilatorer      A        7.5\n",
    "...           ...                           ...      ...\n",
    "\n",
    "ssn           course_code   grade\n",
    "---           -----------   -----\n",
    "861103–2438   EDA016        4\n",
    "861103–2438   EDAA01        3\n",
    "911212–1746   EDA016        3\n",
    "...           ...           ...\n",
    "```\n"
   ]
  },
  {
   "cell_type": "markdown",
   "metadata": {},
   "source": [
    "The tables have been created with the following SQL\n",
    "statements:"
   ]
  },
  {
   "cell_type": "markdown",
   "metadata": {},
   "source": [
    "```sql\n",
    "CREATE TABLE students (\n",
    "  ssn          CHAR(11),\n",
    "  first_name   TEXT NOT NULL,\n",
    "  last_name    TEXT NOT NULL,\n",
    "  PRIMARY KEY  (ssn)\n",
    ");\n",
    "\n",
    "CREATE TABLE courses (\n",
    "  course_code   CHAR(6),\n",
    "  course_name   TEXT NOT NULL,\n",
    "  level         CHAR(2),\n",
    "  credits       DOUBLE NOT NULL CHECK (credits > 0),\n",
    "  PRIMARY KEY   (course_code)\n",
    ");\n",
    "\n",
    "CREATE TABLE taken_courses (\n",
    "  ssn           CHAR(11),\n",
    "  course_code   CHAR(6),\n",
    "  grade         INTEGER NOT NULL CHECK (grade >= 3 AND grade <= 5),\n",
    "  PRIMARY KEY   (ssn, course_code),\n",
    "  FOREIGN KEY   (ssn) REFERENCES students(ssn),\n",
    "  FOREIGN KEY   (course_code) REFERENCES courses(course_code)\n",
    ");\n",
    "```\n"
   ]
  },
  {
   "cell_type": "markdown",
   "metadata": {},
   "source": [
    "All courses offered at the \"Computer Science and\n",
    "Engineering\" program at LTH during the academic year 2013/14\n",
    "are in the table 'courses`. Also, the database has been\n",
    "filled with made up data. SQL statements like the following\n",
    "have been used to insert the data:"
   ]
  },
  {
   "cell_type": "markdown",
   "metadata": {},
   "source": [
    "```sql\n",
    "INTO   students(ssn, first_name, last_name)\n",
    "VALUES ('950705-2308', 'Anna', 'Johansson'),\n",
    "       ('930702-3582', 'Anna', 'Johansson'),\n",
    "       ('911212-1746', 'Eva', 'Alm'),\n",
    "       ('910707-3787', 'Eva', 'Nilsson'),\n",
    "       ...\n",
    "```\n"
   ]
  },
  {
   "cell_type": "markdown",
   "metadata": {},
   "source": [
    "## Assignments\n",
    "\n",
    "As said above, this lab is designed to be run as a jupyter\n",
    "notebook. If you haven't got jupyter running, you can run\n",
    "the sql-commands for the problems below interactively inside\n",
    "sqlite3, or as a script file with all your commands, or\n",
    "inside some IDE, like [DB Browser for\n",
    "SQLite](https://sqlitebrowser.org/).\n",
    "\n",
    "If you're running the lab as a notebook (and hopefully you\n",
    "are!), evaluate the following cells before you begin:"
   ]
  },
  {
   "cell_type": "code",
   "execution_count": 1,
   "metadata": {},
   "outputs": [],
   "source": [
    "%load_ext sql"
   ]
  },
  {
   "cell_type": "code",
   "execution_count": 2,
   "metadata": {},
   "outputs": [],
   "source": [
    "%sql sqlite:///lab1.sqlite"
   ]
  },
  {
   "cell_type": "markdown",
   "metadata": {},
   "source": [
    "The tables `students`, `courses` and `taken_courses` are\n",
    "already in your database, you can see some of their contents\n",
    "by running the cells below:"
   ]
  },
  {
   "cell_type": "code",
   "execution_count": 3,
   "metadata": {},
   "outputs": [
    {
     "name": "stdout",
     "output_type": "stream",
     "text": [
      " * sqlite:///lab1.sqlite\n",
      "Done.\n"
     ]
    },
    {
     "data": {
      "text/html": [
       "<table>\n",
       "    <tr>\n",
       "        <th>ssn</th>\n",
       "        <th>first_name</th>\n",
       "        <th>last_name</th>\n",
       "    </tr>\n",
       "    <tr>\n",
       "        <td>950705-2308</td>\n",
       "        <td>Anna</td>\n",
       "        <td>Johansson</td>\n",
       "    </tr>\n",
       "    <tr>\n",
       "        <td>930702-3582</td>\n",
       "        <td>Anna</td>\n",
       "        <td>Johansson</td>\n",
       "    </tr>\n",
       "    <tr>\n",
       "        <td>911212-1746</td>\n",
       "        <td>Eva</td>\n",
       "        <td>Alm</td>\n",
       "    </tr>\n",
       "    <tr>\n",
       "        <td>910707-3787</td>\n",
       "        <td>Eva</td>\n",
       "        <td>Nilsson</td>\n",
       "    </tr>\n",
       "</table>"
      ],
      "text/plain": [
       "[('950705-2308', 'Anna', 'Johansson'),\n",
       " ('930702-3582', 'Anna', 'Johansson'),\n",
       " ('911212-1746', 'Eva', 'Alm'),\n",
       " ('910707-3787', 'Eva', 'Nilsson')]"
      ]
     },
     "execution_count": 3,
     "metadata": {},
     "output_type": "execute_result"
    }
   ],
   "source": [
    "%%sql\n",
    "SELECT  *\n",
    "FROM    students\n",
    "LIMIT   4"
   ]
  },
  {
   "cell_type": "code",
   "execution_count": 4,
   "metadata": {},
   "outputs": [
    {
     "name": "stdout",
     "output_type": "stream",
     "text": [
      " * sqlite:///lab1.sqlite\n",
      "Done.\n"
     ]
    },
    {
     "data": {
      "text/html": [
       "<table>\n",
       "    <tr>\n",
       "        <th>course_code</th>\n",
       "        <th>course_name</th>\n",
       "        <th>level</th>\n",
       "        <th>credits</th>\n",
       "    </tr>\n",
       "    <tr>\n",
       "        <td>EDA016</td>\n",
       "        <td>Programmeringsteknik</td>\n",
       "        <td>G1</td>\n",
       "        <td>7.5</td>\n",
       "    </tr>\n",
       "    <tr>\n",
       "        <td>EDA031</td>\n",
       "        <td>C++ - programmering</td>\n",
       "        <td>G2</td>\n",
       "        <td>7.5</td>\n",
       "    </tr>\n",
       "    <tr>\n",
       "        <td>EDA040</td>\n",
       "        <td>Realtidsprogrammering</td>\n",
       "        <td>G2</td>\n",
       "        <td>6.0</td>\n",
       "    </tr>\n",
       "    <tr>\n",
       "        <td>EDA050</td>\n",
       "        <td>Operativsystem</td>\n",
       "        <td>G2</td>\n",
       "        <td>4.5</td>\n",
       "    </tr>\n",
       "</table>"
      ],
      "text/plain": [
       "[('EDA016', 'Programmeringsteknik', 'G1', 7.5),\n",
       " ('EDA031', 'C++ - programmering', 'G2', 7.5),\n",
       " ('EDA040', 'Realtidsprogrammering', 'G2', 6.0),\n",
       " ('EDA050', 'Operativsystem', 'G2', 4.5)]"
      ]
     },
     "execution_count": 4,
     "metadata": {},
     "output_type": "execute_result"
    }
   ],
   "source": [
    "%%sql\n",
    "SELECT  *\n",
    "FROM    courses\n",
    "LIMIT   4"
   ]
  },
  {
   "cell_type": "code",
   "execution_count": 5,
   "metadata": {
    "scrolled": true
   },
   "outputs": [
    {
     "name": "stdout",
     "output_type": "stream",
     "text": [
      " * sqlite:///lab1.sqlite\n",
      "Done.\n"
     ]
    },
    {
     "data": {
      "text/html": [
       "<table>\n",
       "    <tr>\n",
       "        <th>ssn</th>\n",
       "        <th>course_code</th>\n",
       "        <th>grade</th>\n",
       "    </tr>\n",
       "    <tr>\n",
       "        <td>950705-2308</td>\n",
       "        <td>EITN35</td>\n",
       "        <td>5</td>\n",
       "    </tr>\n",
       "    <tr>\n",
       "        <td>950705-2308</td>\n",
       "        <td>ESS050</td>\n",
       "        <td>3</td>\n",
       "    </tr>\n",
       "    <tr>\n",
       "        <td>950705-2308</td>\n",
       "        <td>ETIN70</td>\n",
       "        <td>4</td>\n",
       "    </tr>\n",
       "    <tr>\n",
       "        <td>950705-2308</td>\n",
       "        <td>FMA140</td>\n",
       "        <td>4</td>\n",
       "    </tr>\n",
       "</table>"
      ],
      "text/plain": [
       "[('950705-2308', 'EITN35', 5),\n",
       " ('950705-2308', 'ESS050', 3),\n",
       " ('950705-2308', 'ETIN70', 4),\n",
       " ('950705-2308', 'FMA140', 4)]"
      ]
     },
     "execution_count": 5,
     "metadata": {},
     "output_type": "execute_result"
    }
   ],
   "source": [
    "%%sql\n",
    "SELECT  *\n",
    "FROM    taken_courses\n",
    "LIMIT   4"
   ]
  },
  {
   "cell_type": "markdown",
   "metadata": {},
   "source": [
    "If you inadvertently change the contents of the tables, you\n",
    "can always recreate the them with the following command (it\n",
    "must be run at the command line):"
   ]
  },
  {
   "cell_type": "markdown",
   "metadata": {},
   "source": [
    "```sh\n",
    "sqlite3 lab1.sqlite < create-lab1-data.sql\n",
    "```\n"
   ]
  },
  {
   "cell_type": "markdown",
   "metadata": {},
   "source": [
    "After some of the questions there is a number in brackets.\n",
    "This is the number of rows generated by the question. For\n",
    "instance, [72] after question a) means that there are 72\n",
    "students in the database, you can use that number as an\n",
    "indicatation of if your answer is in the right ballpark.\n",
    "\n",
    "a) What are the names (first name, last name) of all the\n",
    "   students? [72]"
   ]
  },
  {
   "cell_type": "code",
   "execution_count": 8,
   "metadata": {},
   "outputs": [
    {
     "name": "stdout",
     "output_type": "stream",
     "text": [
      " * sqlite:///lab1.sqlite\n",
      "Done.\n"
     ]
    },
    {
     "data": {
      "text/html": [
       "<table>\n",
       "    <tr>\n",
       "        <th>first_name</th>\n",
       "        <th>last_name</th>\n",
       "    </tr>\n",
       "    <tr>\n",
       "        <td>Anna</td>\n",
       "        <td>Johansson</td>\n",
       "    </tr>\n",
       "    <tr>\n",
       "        <td>Anna</td>\n",
       "        <td>Johansson</td>\n",
       "    </tr>\n",
       "    <tr>\n",
       "        <td>Eva</td>\n",
       "        <td>Alm</td>\n",
       "    </tr>\n",
       "    <tr>\n",
       "        <td>Eva</td>\n",
       "        <td>Nilsson</td>\n",
       "    </tr>\n",
       "    <tr>\n",
       "        <td>Elaine</td>\n",
       "        <td>Robertson</td>\n",
       "    </tr>\n",
       "    <tr>\n",
       "        <td>Maria</td>\n",
       "        <td>Nordman</td>\n",
       "    </tr>\n",
       "    <tr>\n",
       "        <td>Helena</td>\n",
       "        <td>Troberg</td>\n",
       "    </tr>\n",
       "    <tr>\n",
       "        <td>Lotta</td>\n",
       "        <td>Emanuelsson</td>\n",
       "    </tr>\n",
       "    <tr>\n",
       "        <td>Anna</td>\n",
       "        <td>Nyström</td>\n",
       "    </tr>\n",
       "    <tr>\n",
       "        <td>Maria</td>\n",
       "        <td>Andersson</td>\n",
       "    </tr>\n",
       "    <tr>\n",
       "        <td>Marie</td>\n",
       "        <td>Persson</td>\n",
       "    </tr>\n",
       "    <tr>\n",
       "        <td>Märit</td>\n",
       "        <td>Aspegren</td>\n",
       "    </tr>\n",
       "    <tr>\n",
       "        <td>Ylva</td>\n",
       "        <td>Jacobsson</td>\n",
       "    </tr>\n",
       "    <tr>\n",
       "        <td>Frida</td>\n",
       "        <td>Weidel</td>\n",
       "    </tr>\n",
       "    <tr>\n",
       "        <td>Caroline</td>\n",
       "        <td>Olsson</td>\n",
       "    </tr>\n",
       "    <tr>\n",
       "        <td>Karolin</td>\n",
       "        <td>Ek</td>\n",
       "    </tr>\n",
       "    <tr>\n",
       "        <td>Eva</td>\n",
       "        <td>Hjort</td>\n",
       "    </tr>\n",
       "    <tr>\n",
       "        <td>Sofia</td>\n",
       "        <td>Kjellberg</td>\n",
       "    </tr>\n",
       "    <tr>\n",
       "        <td>Tina</td>\n",
       "        <td>Lööf</td>\n",
       "    </tr>\n",
       "    <tr>\n",
       "        <td>Lisa</td>\n",
       "        <td>Berg</td>\n",
       "    </tr>\n",
       "    <tr>\n",
       "        <td>Lotta</td>\n",
       "        <td>Bergman</td>\n",
       "    </tr>\n",
       "    <tr>\n",
       "        <td>Susanne</td>\n",
       "        <td>Dahl</td>\n",
       "    </tr>\n",
       "    <tr>\n",
       "        <td>Birgit</td>\n",
       "        <td>Ewesson</td>\n",
       "    </tr>\n",
       "    <tr>\n",
       "        <td>Ulrika</td>\n",
       "        <td>Jonsson</td>\n",
       "    </tr>\n",
       "    <tr>\n",
       "        <td>Jenny</td>\n",
       "        <td>Lundin</td>\n",
       "    </tr>\n",
       "    <tr>\n",
       "        <td>Karin</td>\n",
       "        <td>Östberg</td>\n",
       "    </tr>\n",
       "    <tr>\n",
       "        <td>Bo</td>\n",
       "        <td>Ek</td>\n",
       "    </tr>\n",
       "    <tr>\n",
       "        <td>Bo</td>\n",
       "        <td>Ek</td>\n",
       "    </tr>\n",
       "    <tr>\n",
       "        <td>Bo</td>\n",
       "        <td>Ek</td>\n",
       "    </tr>\n",
       "    <tr>\n",
       "        <td>Erik</td>\n",
       "        <td>Andersson</td>\n",
       "    </tr>\n",
       "    <tr>\n",
       "        <td>Erik</td>\n",
       "        <td>Andersson</td>\n",
       "    </tr>\n",
       "    <tr>\n",
       "        <td>Filip</td>\n",
       "        <td>Gustavsson</td>\n",
       "    </tr>\n",
       "    <tr>\n",
       "        <td>Niklas</td>\n",
       "        <td>Andersson</td>\n",
       "    </tr>\n",
       "    <tr>\n",
       "        <td>David</td>\n",
       "        <td>Carlsson</td>\n",
       "    </tr>\n",
       "    <tr>\n",
       "        <td>Tobias</td>\n",
       "        <td>Enberg</td>\n",
       "    </tr>\n",
       "    <tr>\n",
       "        <td>Johan</td>\n",
       "        <td>Lind</td>\n",
       "    </tr>\n",
       "    <tr>\n",
       "        <td>Magnus</td>\n",
       "        <td>Pettersson</td>\n",
       "    </tr>\n",
       "    <tr>\n",
       "        <td>Filip</td>\n",
       "        <td>Persson</td>\n",
       "    </tr>\n",
       "    <tr>\n",
       "        <td>Ola</td>\n",
       "        <td>Nilsson</td>\n",
       "    </tr>\n",
       "    <tr>\n",
       "        <td>Jakob</td>\n",
       "        <td>Malmberg</td>\n",
       "    </tr>\n",
       "    <tr>\n",
       "        <td>Henrik</td>\n",
       "        <td>Berg</td>\n",
       "    </tr>\n",
       "    <tr>\n",
       "        <td>John</td>\n",
       "        <td>Lind</td>\n",
       "    </tr>\n",
       "    <tr>\n",
       "        <td>Patrik</td>\n",
       "        <td>Lundh</td>\n",
       "    </tr>\n",
       "    <tr>\n",
       "        <td>Mikael</td>\n",
       "        <td>Nilsson</td>\n",
       "    </tr>\n",
       "    <tr>\n",
       "        <td>Joakim</td>\n",
       "        <td>Nilsson</td>\n",
       "    </tr>\n",
       "    <tr>\n",
       "        <td>Conny</td>\n",
       "        <td>Modig</td>\n",
       "    </tr>\n",
       "    <tr>\n",
       "        <td>Christian</td>\n",
       "        <td>Wallman</td>\n",
       "    </tr>\n",
       "    <tr>\n",
       "        <td>Magnus</td>\n",
       "        <td>Strömgren</td>\n",
       "    </tr>\n",
       "    <tr>\n",
       "        <td>Daniel</td>\n",
       "        <td>Ahlman</td>\n",
       "    </tr>\n",
       "    <tr>\n",
       "        <td>Lars</td>\n",
       "        <td>Molin</td>\n",
       "    </tr>\n",
       "    <tr>\n",
       "        <td>Magnus</td>\n",
       "        <td>Nilsson</td>\n",
       "    </tr>\n",
       "    <tr>\n",
       "        <td>Anders</td>\n",
       "        <td>Olsson</td>\n",
       "    </tr>\n",
       "    <tr>\n",
       "        <td>Martin</td>\n",
       "        <td>Alm</td>\n",
       "    </tr>\n",
       "    <tr>\n",
       "        <td>Håkan</td>\n",
       "        <td>Mossgren</td>\n",
       "    </tr>\n",
       "    <tr>\n",
       "        <td>Fredrik</td>\n",
       "        <td>Ryd</td>\n",
       "    </tr>\n",
       "    <tr>\n",
       "        <td>Mats</td>\n",
       "        <td>Wikström</td>\n",
       "    </tr>\n",
       "    <tr>\n",
       "        <td>Anders</td>\n",
       "        <td>Magnusson</td>\n",
       "    </tr>\n",
       "    <tr>\n",
       "        <td>Andreas</td>\n",
       "        <td>Molin</td>\n",
       "    </tr>\n",
       "    <tr>\n",
       "        <td>Johan</td>\n",
       "        <td>Brattberg</td>\n",
       "    </tr>\n",
       "    <tr>\n",
       "        <td>Johan</td>\n",
       "        <td>Olsson</td>\n",
       "    </tr>\n",
       "    <tr>\n",
       "        <td>Jonathan</td>\n",
       "        <td>Jönsson</td>\n",
       "    </tr>\n",
       "    <tr>\n",
       "        <td>Magnus</td>\n",
       "        <td>Hultgren</td>\n",
       "    </tr>\n",
       "    <tr>\n",
       "        <td>Axel</td>\n",
       "        <td>Nord</td>\n",
       "    </tr>\n",
       "    <tr>\n",
       "        <td>Henrik</td>\n",
       "        <td>Hult</td>\n",
       "    </tr>\n",
       "    <tr>\n",
       "        <td>Joakim</td>\n",
       "        <td>Hall</td>\n",
       "    </tr>\n",
       "    <tr>\n",
       "        <td>Henrik</td>\n",
       "        <td>Gustavsson</td>\n",
       "    </tr>\n",
       "    <tr>\n",
       "        <td>Torbjörn</td>\n",
       "        <td>Modig</td>\n",
       "    </tr>\n",
       "    <tr>\n",
       "        <td>Daniel</td>\n",
       "        <td>Axelsson</td>\n",
       "    </tr>\n",
       "    <tr>\n",
       "        <td>Per-Erik</td>\n",
       "        <td>Pettersson</td>\n",
       "    </tr>\n",
       "    <tr>\n",
       "        <td>Roger</td>\n",
       "        <td>Brorsson</td>\n",
       "    </tr>\n",
       "    <tr>\n",
       "        <td>Patrik</td>\n",
       "        <td>Ohlsson</td>\n",
       "    </tr>\n",
       "    <tr>\n",
       "        <td>Peter</td>\n",
       "        <td>Solberg</td>\n",
       "    </tr>\n",
       "</table>"
      ],
      "text/plain": [
       "[('Anna', 'Johansson'),\n",
       " ('Anna', 'Johansson'),\n",
       " ('Eva', 'Alm'),\n",
       " ('Eva', 'Nilsson'),\n",
       " ('Elaine', 'Robertson'),\n",
       " ('Maria', 'Nordman'),\n",
       " ('Helena', 'Troberg'),\n",
       " ('Lotta', 'Emanuelsson'),\n",
       " ('Anna', 'Nyström'),\n",
       " ('Maria', 'Andersson'),\n",
       " ('Marie', 'Persson'),\n",
       " ('Märit', 'Aspegren'),\n",
       " ('Ylva', 'Jacobsson'),\n",
       " ('Frida', 'Weidel'),\n",
       " ('Caroline', 'Olsson'),\n",
       " ('Karolin', 'Ek'),\n",
       " ('Eva', 'Hjort'),\n",
       " ('Sofia', 'Kjellberg'),\n",
       " ('Tina', 'Lööf'),\n",
       " ('Lisa', 'Berg'),\n",
       " ('Lotta', 'Bergman'),\n",
       " ('Susanne', 'Dahl'),\n",
       " ('Birgit', 'Ewesson'),\n",
       " ('Ulrika', 'Jonsson'),\n",
       " ('Jenny', 'Lundin'),\n",
       " ('Karin', 'Östberg'),\n",
       " ('Bo', 'Ek'),\n",
       " ('Bo', 'Ek'),\n",
       " ('Bo', 'Ek'),\n",
       " ('Erik', 'Andersson'),\n",
       " ('Erik', 'Andersson'),\n",
       " ('Filip', 'Gustavsson'),\n",
       " ('Niklas', 'Andersson'),\n",
       " ('David', 'Carlsson'),\n",
       " ('Tobias', 'Enberg'),\n",
       " ('Johan', 'Lind'),\n",
       " ('Magnus', 'Pettersson'),\n",
       " ('Filip', 'Persson'),\n",
       " ('Ola', 'Nilsson'),\n",
       " ('Jakob', 'Malmberg'),\n",
       " ('Henrik', 'Berg'),\n",
       " ('John', 'Lind'),\n",
       " ('Patrik', 'Lundh'),\n",
       " ('Mikael', 'Nilsson'),\n",
       " ('Joakim', 'Nilsson'),\n",
       " ('Conny', 'Modig'),\n",
       " ('Christian', 'Wallman'),\n",
       " ('Magnus', 'Strömgren'),\n",
       " ('Daniel', 'Ahlman'),\n",
       " ('Lars', 'Molin'),\n",
       " ('Magnus', 'Nilsson'),\n",
       " ('Anders', 'Olsson'),\n",
       " ('Martin', 'Alm'),\n",
       " ('Håkan', 'Mossgren'),\n",
       " ('Fredrik', 'Ryd'),\n",
       " ('Mats', 'Wikström'),\n",
       " ('Anders', 'Magnusson'),\n",
       " ('Andreas', 'Molin'),\n",
       " ('Johan', 'Brattberg'),\n",
       " ('Johan', 'Olsson'),\n",
       " ('Jonathan', 'Jönsson'),\n",
       " ('Magnus', 'Hultgren'),\n",
       " ('Axel', 'Nord'),\n",
       " ('Henrik', 'Hult'),\n",
       " ('Joakim', 'Hall'),\n",
       " ('Henrik', 'Gustavsson'),\n",
       " ('Torbjörn', 'Modig'),\n",
       " ('Daniel', 'Axelsson'),\n",
       " ('Per-Erik', 'Pettersson'),\n",
       " ('Roger', 'Brorsson'),\n",
       " ('Patrik', 'Ohlsson'),\n",
       " ('Peter', 'Solberg')]"
      ]
     },
     "execution_count": 8,
     "metadata": {},
     "output_type": "execute_result"
    }
   ],
   "source": [
    "%%sql\n",
    "select first_name, last_name\n",
    "from students "
   ]
  },
  {
   "cell_type": "markdown",
   "metadata": {},
   "source": [
    "b) Same as question a) but produce a sorted listing. Sort\n",
    "   first by last name and then by first name."
   ]
  },
  {
   "cell_type": "code",
   "execution_count": 32,
   "metadata": {
    "attributes": {
     "classes": [
      "clear"
     ],
     "id": ""
    }
   },
   "outputs": [
    {
     "name": "stdout",
     "output_type": "stream",
     "text": [
      " * sqlite:///lab1.sqlite\n",
      "Done.\n"
     ]
    },
    {
     "data": {
      "text/html": [
       "<table>\n",
       "    <tr>\n",
       "        <th>last_name</th>\n",
       "        <th>first_name</th>\n",
       "    </tr>\n",
       "    <tr>\n",
       "        <td>Ahlman</td>\n",
       "        <td>Daniel</td>\n",
       "    </tr>\n",
       "    <tr>\n",
       "        <td>Alm</td>\n",
       "        <td>Eva</td>\n",
       "    </tr>\n",
       "    <tr>\n",
       "        <td>Alm</td>\n",
       "        <td>Martin</td>\n",
       "    </tr>\n",
       "    <tr>\n",
       "        <td>Andersson</td>\n",
       "        <td>Erik</td>\n",
       "    </tr>\n",
       "    <tr>\n",
       "        <td>Andersson</td>\n",
       "        <td>Erik</td>\n",
       "    </tr>\n",
       "    <tr>\n",
       "        <td>Andersson</td>\n",
       "        <td>Maria</td>\n",
       "    </tr>\n",
       "    <tr>\n",
       "        <td>Andersson</td>\n",
       "        <td>Niklas</td>\n",
       "    </tr>\n",
       "    <tr>\n",
       "        <td>Aspegren</td>\n",
       "        <td>Märit</td>\n",
       "    </tr>\n",
       "    <tr>\n",
       "        <td>Axelsson</td>\n",
       "        <td>Daniel</td>\n",
       "    </tr>\n",
       "    <tr>\n",
       "        <td>Berg</td>\n",
       "        <td>Henrik</td>\n",
       "    </tr>\n",
       "    <tr>\n",
       "        <td>Berg</td>\n",
       "        <td>Lisa</td>\n",
       "    </tr>\n",
       "    <tr>\n",
       "        <td>Bergman</td>\n",
       "        <td>Lotta</td>\n",
       "    </tr>\n",
       "    <tr>\n",
       "        <td>Brattberg</td>\n",
       "        <td>Johan</td>\n",
       "    </tr>\n",
       "    <tr>\n",
       "        <td>Brorsson</td>\n",
       "        <td>Roger</td>\n",
       "    </tr>\n",
       "    <tr>\n",
       "        <td>Carlsson</td>\n",
       "        <td>David</td>\n",
       "    </tr>\n",
       "    <tr>\n",
       "        <td>Dahl</td>\n",
       "        <td>Susanne</td>\n",
       "    </tr>\n",
       "    <tr>\n",
       "        <td>Ek</td>\n",
       "        <td>Bo</td>\n",
       "    </tr>\n",
       "    <tr>\n",
       "        <td>Ek</td>\n",
       "        <td>Bo</td>\n",
       "    </tr>\n",
       "    <tr>\n",
       "        <td>Ek</td>\n",
       "        <td>Bo</td>\n",
       "    </tr>\n",
       "    <tr>\n",
       "        <td>Ek</td>\n",
       "        <td>Karolin</td>\n",
       "    </tr>\n",
       "    <tr>\n",
       "        <td>Emanuelsson</td>\n",
       "        <td>Lotta</td>\n",
       "    </tr>\n",
       "    <tr>\n",
       "        <td>Enberg</td>\n",
       "        <td>Tobias</td>\n",
       "    </tr>\n",
       "    <tr>\n",
       "        <td>Ewesson</td>\n",
       "        <td>Birgit</td>\n",
       "    </tr>\n",
       "    <tr>\n",
       "        <td>Gustavsson</td>\n",
       "        <td>Filip</td>\n",
       "    </tr>\n",
       "    <tr>\n",
       "        <td>Gustavsson</td>\n",
       "        <td>Henrik</td>\n",
       "    </tr>\n",
       "    <tr>\n",
       "        <td>Hall</td>\n",
       "        <td>Joakim</td>\n",
       "    </tr>\n",
       "    <tr>\n",
       "        <td>Hjort</td>\n",
       "        <td>Eva</td>\n",
       "    </tr>\n",
       "    <tr>\n",
       "        <td>Hult</td>\n",
       "        <td>Henrik</td>\n",
       "    </tr>\n",
       "    <tr>\n",
       "        <td>Hultgren</td>\n",
       "        <td>Magnus</td>\n",
       "    </tr>\n",
       "    <tr>\n",
       "        <td>Jacobsson</td>\n",
       "        <td>Ylva</td>\n",
       "    </tr>\n",
       "    <tr>\n",
       "        <td>Johansson</td>\n",
       "        <td>Anna</td>\n",
       "    </tr>\n",
       "    <tr>\n",
       "        <td>Johansson</td>\n",
       "        <td>Anna</td>\n",
       "    </tr>\n",
       "    <tr>\n",
       "        <td>Jonsson</td>\n",
       "        <td>Ulrika</td>\n",
       "    </tr>\n",
       "    <tr>\n",
       "        <td>Jönsson</td>\n",
       "        <td>Jonathan</td>\n",
       "    </tr>\n",
       "    <tr>\n",
       "        <td>Kjellberg</td>\n",
       "        <td>Sofia</td>\n",
       "    </tr>\n",
       "    <tr>\n",
       "        <td>Lind</td>\n",
       "        <td>Johan</td>\n",
       "    </tr>\n",
       "    <tr>\n",
       "        <td>Lind</td>\n",
       "        <td>John</td>\n",
       "    </tr>\n",
       "    <tr>\n",
       "        <td>Lundh</td>\n",
       "        <td>Patrik</td>\n",
       "    </tr>\n",
       "    <tr>\n",
       "        <td>Lundin</td>\n",
       "        <td>Jenny</td>\n",
       "    </tr>\n",
       "    <tr>\n",
       "        <td>Lööf</td>\n",
       "        <td>Tina</td>\n",
       "    </tr>\n",
       "    <tr>\n",
       "        <td>Magnusson</td>\n",
       "        <td>Anders</td>\n",
       "    </tr>\n",
       "    <tr>\n",
       "        <td>Malmberg</td>\n",
       "        <td>Jakob</td>\n",
       "    </tr>\n",
       "    <tr>\n",
       "        <td>Modig</td>\n",
       "        <td>Conny</td>\n",
       "    </tr>\n",
       "    <tr>\n",
       "        <td>Modig</td>\n",
       "        <td>Torbjörn</td>\n",
       "    </tr>\n",
       "    <tr>\n",
       "        <td>Molin</td>\n",
       "        <td>Andreas</td>\n",
       "    </tr>\n",
       "    <tr>\n",
       "        <td>Molin</td>\n",
       "        <td>Lars</td>\n",
       "    </tr>\n",
       "    <tr>\n",
       "        <td>Mossgren</td>\n",
       "        <td>Håkan</td>\n",
       "    </tr>\n",
       "    <tr>\n",
       "        <td>Nilsson</td>\n",
       "        <td>Eva</td>\n",
       "    </tr>\n",
       "    <tr>\n",
       "        <td>Nilsson</td>\n",
       "        <td>Joakim</td>\n",
       "    </tr>\n",
       "    <tr>\n",
       "        <td>Nilsson</td>\n",
       "        <td>Magnus</td>\n",
       "    </tr>\n",
       "    <tr>\n",
       "        <td>Nilsson</td>\n",
       "        <td>Mikael</td>\n",
       "    </tr>\n",
       "    <tr>\n",
       "        <td>Nilsson</td>\n",
       "        <td>Ola</td>\n",
       "    </tr>\n",
       "    <tr>\n",
       "        <td>Nord</td>\n",
       "        <td>Axel</td>\n",
       "    </tr>\n",
       "    <tr>\n",
       "        <td>Nordman</td>\n",
       "        <td>Maria</td>\n",
       "    </tr>\n",
       "    <tr>\n",
       "        <td>Nyström</td>\n",
       "        <td>Anna</td>\n",
       "    </tr>\n",
       "    <tr>\n",
       "        <td>Ohlsson</td>\n",
       "        <td>Patrik</td>\n",
       "    </tr>\n",
       "    <tr>\n",
       "        <td>Olsson</td>\n",
       "        <td>Anders</td>\n",
       "    </tr>\n",
       "    <tr>\n",
       "        <td>Olsson</td>\n",
       "        <td>Caroline</td>\n",
       "    </tr>\n",
       "    <tr>\n",
       "        <td>Olsson</td>\n",
       "        <td>Johan</td>\n",
       "    </tr>\n",
       "    <tr>\n",
       "        <td>Persson</td>\n",
       "        <td>Filip</td>\n",
       "    </tr>\n",
       "    <tr>\n",
       "        <td>Persson</td>\n",
       "        <td>Marie</td>\n",
       "    </tr>\n",
       "    <tr>\n",
       "        <td>Pettersson</td>\n",
       "        <td>Magnus</td>\n",
       "    </tr>\n",
       "    <tr>\n",
       "        <td>Pettersson</td>\n",
       "        <td>Per-Erik</td>\n",
       "    </tr>\n",
       "    <tr>\n",
       "        <td>Robertson</td>\n",
       "        <td>Elaine</td>\n",
       "    </tr>\n",
       "    <tr>\n",
       "        <td>Ryd</td>\n",
       "        <td>Fredrik</td>\n",
       "    </tr>\n",
       "    <tr>\n",
       "        <td>Solberg</td>\n",
       "        <td>Peter</td>\n",
       "    </tr>\n",
       "    <tr>\n",
       "        <td>Strömgren</td>\n",
       "        <td>Magnus</td>\n",
       "    </tr>\n",
       "    <tr>\n",
       "        <td>Troberg</td>\n",
       "        <td>Helena</td>\n",
       "    </tr>\n",
       "    <tr>\n",
       "        <td>Wallman</td>\n",
       "        <td>Christian</td>\n",
       "    </tr>\n",
       "    <tr>\n",
       "        <td>Weidel</td>\n",
       "        <td>Frida</td>\n",
       "    </tr>\n",
       "    <tr>\n",
       "        <td>Wikström</td>\n",
       "        <td>Mats</td>\n",
       "    </tr>\n",
       "    <tr>\n",
       "        <td>Östberg</td>\n",
       "        <td>Karin</td>\n",
       "    </tr>\n",
       "</table>"
      ],
      "text/plain": [
       "[('Ahlman', 'Daniel'),\n",
       " ('Alm', 'Eva'),\n",
       " ('Alm', 'Martin'),\n",
       " ('Andersson', 'Erik'),\n",
       " ('Andersson', 'Erik'),\n",
       " ('Andersson', 'Maria'),\n",
       " ('Andersson', 'Niklas'),\n",
       " ('Aspegren', 'Märit'),\n",
       " ('Axelsson', 'Daniel'),\n",
       " ('Berg', 'Henrik'),\n",
       " ('Berg', 'Lisa'),\n",
       " ('Bergman', 'Lotta'),\n",
       " ('Brattberg', 'Johan'),\n",
       " ('Brorsson', 'Roger'),\n",
       " ('Carlsson', 'David'),\n",
       " ('Dahl', 'Susanne'),\n",
       " ('Ek', 'Bo'),\n",
       " ('Ek', 'Bo'),\n",
       " ('Ek', 'Bo'),\n",
       " ('Ek', 'Karolin'),\n",
       " ('Emanuelsson', 'Lotta'),\n",
       " ('Enberg', 'Tobias'),\n",
       " ('Ewesson', 'Birgit'),\n",
       " ('Gustavsson', 'Filip'),\n",
       " ('Gustavsson', 'Henrik'),\n",
       " ('Hall', 'Joakim'),\n",
       " ('Hjort', 'Eva'),\n",
       " ('Hult', 'Henrik'),\n",
       " ('Hultgren', 'Magnus'),\n",
       " ('Jacobsson', 'Ylva'),\n",
       " ('Johansson', 'Anna'),\n",
       " ('Johansson', 'Anna'),\n",
       " ('Jonsson', 'Ulrika'),\n",
       " ('Jönsson', 'Jonathan'),\n",
       " ('Kjellberg', 'Sofia'),\n",
       " ('Lind', 'Johan'),\n",
       " ('Lind', 'John'),\n",
       " ('Lundh', 'Patrik'),\n",
       " ('Lundin', 'Jenny'),\n",
       " ('Lööf', 'Tina'),\n",
       " ('Magnusson', 'Anders'),\n",
       " ('Malmberg', 'Jakob'),\n",
       " ('Modig', 'Conny'),\n",
       " ('Modig', 'Torbjörn'),\n",
       " ('Molin', 'Andreas'),\n",
       " ('Molin', 'Lars'),\n",
       " ('Mossgren', 'Håkan'),\n",
       " ('Nilsson', 'Eva'),\n",
       " ('Nilsson', 'Joakim'),\n",
       " ('Nilsson', 'Magnus'),\n",
       " ('Nilsson', 'Mikael'),\n",
       " ('Nilsson', 'Ola'),\n",
       " ('Nord', 'Axel'),\n",
       " ('Nordman', 'Maria'),\n",
       " ('Nyström', 'Anna'),\n",
       " ('Ohlsson', 'Patrik'),\n",
       " ('Olsson', 'Anders'),\n",
       " ('Olsson', 'Caroline'),\n",
       " ('Olsson', 'Johan'),\n",
       " ('Persson', 'Filip'),\n",
       " ('Persson', 'Marie'),\n",
       " ('Pettersson', 'Magnus'),\n",
       " ('Pettersson', 'Per-Erik'),\n",
       " ('Robertson', 'Elaine'),\n",
       " ('Ryd', 'Fredrik'),\n",
       " ('Solberg', 'Peter'),\n",
       " ('Strömgren', 'Magnus'),\n",
       " ('Troberg', 'Helena'),\n",
       " ('Wallman', 'Christian'),\n",
       " ('Weidel', 'Frida'),\n",
       " ('Wikström', 'Mats'),\n",
       " ('Östberg', 'Karin')]"
      ]
     },
     "execution_count": 32,
     "metadata": {},
     "output_type": "execute_result"
    }
   ],
   "source": [
    "%%sql\n",
    "select last_name, first_name\n",
    "from students\n",
    "order by last_name, first_name"
   ]
  },
  {
   "cell_type": "markdown",
   "metadata": {},
   "source": [
    "c) What are the names of the students who were born in 1985?\n",
    "   [4]"
   ]
  },
  {
   "cell_type": "code",
   "execution_count": 15,
   "metadata": {
    "attributes": {
     "classes": [
      "clear"
     ],
     "id": ""
    }
   },
   "outputs": [
    {
     "name": "stdout",
     "output_type": "stream",
     "text": [
      " * sqlite:///lab1.sqlite\n",
      "Done.\n"
     ]
    },
    {
     "data": {
      "text/html": [
       "<table>\n",
       "    <tr>\n",
       "        <th>ssn</th>\n",
       "        <th>first_name</th>\n",
       "        <th>last_name</th>\n",
       "    </tr>\n",
       "    <tr>\n",
       "        <td>850706-2762</td>\n",
       "        <td>Ulrika</td>\n",
       "        <td>Jonsson</td>\n",
       "    </tr>\n",
       "    <tr>\n",
       "        <td>850819-2139</td>\n",
       "        <td>Bo</td>\n",
       "        <td>Ek</td>\n",
       "    </tr>\n",
       "    <tr>\n",
       "        <td>850517-2597</td>\n",
       "        <td>Filip</td>\n",
       "        <td>Persson</td>\n",
       "    </tr>\n",
       "    <tr>\n",
       "        <td>850208-1213</td>\n",
       "        <td>Henrik</td>\n",
       "        <td>Berg</td>\n",
       "    </tr>\n",
       "</table>"
      ],
      "text/plain": [
       "[('850706-2762', 'Ulrika', 'Jonsson'),\n",
       " ('850819-2139', 'Bo', 'Ek'),\n",
       " ('850517-2597', 'Filip', 'Persson'),\n",
       " ('850208-1213', 'Henrik', 'Berg')]"
      ]
     },
     "execution_count": 15,
     "metadata": {},
     "output_type": "execute_result"
    }
   ],
   "source": [
    "%%sql\n",
    "select ssn,first_name, last_name\n",
    "from students \n",
    "where ssn like '85%'"
   ]
  },
  {
   "cell_type": "markdown",
   "metadata": {},
   "source": [
    "d) The next-to-last digit in the social security number is\n",
    "   even for females, and odd for males. List the first names\n",
    "   of all female students in our database alphabetically\n",
    "   (each name should occur only once). Hint: the `substr`\n",
    "   function can be useful. [26]"
   ]
  },
  {
   "cell_type": "code",
   "execution_count": 29,
   "metadata": {
    "attributes": {
     "classes": [
      "clear"
     ],
     "id": ""
    },
    "scrolled": true
   },
   "outputs": [
    {
     "name": "stdout",
     "output_type": "stream",
     "text": [
      " * sqlite:///lab1.sqlite\n",
      "Done.\n"
     ]
    },
    {
     "data": {
      "text/html": [
       "<table>\n",
       "    <tr>\n",
       "        <th>first_name</th>\n",
       "    </tr>\n",
       "    <tr>\n",
       "        <td>Anna</td>\n",
       "    </tr>\n",
       "    <tr>\n",
       "        <td>Anna</td>\n",
       "    </tr>\n",
       "    <tr>\n",
       "        <td>Anna</td>\n",
       "    </tr>\n",
       "    <tr>\n",
       "        <td>Birgit</td>\n",
       "    </tr>\n",
       "    <tr>\n",
       "        <td>Caroline</td>\n",
       "    </tr>\n",
       "    <tr>\n",
       "        <td>Elaine</td>\n",
       "    </tr>\n",
       "    <tr>\n",
       "        <td>Eva</td>\n",
       "    </tr>\n",
       "    <tr>\n",
       "        <td>Eva</td>\n",
       "    </tr>\n",
       "    <tr>\n",
       "        <td>Eva</td>\n",
       "    </tr>\n",
       "    <tr>\n",
       "        <td>Frida</td>\n",
       "    </tr>\n",
       "    <tr>\n",
       "        <td>Helena</td>\n",
       "    </tr>\n",
       "    <tr>\n",
       "        <td>Jenny</td>\n",
       "    </tr>\n",
       "    <tr>\n",
       "        <td>Karin</td>\n",
       "    </tr>\n",
       "    <tr>\n",
       "        <td>Karolin</td>\n",
       "    </tr>\n",
       "    <tr>\n",
       "        <td>Lisa</td>\n",
       "    </tr>\n",
       "    <tr>\n",
       "        <td>Lotta</td>\n",
       "    </tr>\n",
       "    <tr>\n",
       "        <td>Lotta</td>\n",
       "    </tr>\n",
       "    <tr>\n",
       "        <td>Maria</td>\n",
       "    </tr>\n",
       "    <tr>\n",
       "        <td>Maria</td>\n",
       "    </tr>\n",
       "    <tr>\n",
       "        <td>Marie</td>\n",
       "    </tr>\n",
       "    <tr>\n",
       "        <td>Märit</td>\n",
       "    </tr>\n",
       "    <tr>\n",
       "        <td>Sofia</td>\n",
       "    </tr>\n",
       "    <tr>\n",
       "        <td>Susanne</td>\n",
       "    </tr>\n",
       "    <tr>\n",
       "        <td>Tina</td>\n",
       "    </tr>\n",
       "    <tr>\n",
       "        <td>Ulrika</td>\n",
       "    </tr>\n",
       "    <tr>\n",
       "        <td>Ylva</td>\n",
       "    </tr>\n",
       "</table>"
      ],
      "text/plain": [
       "[('Anna',),\n",
       " ('Anna',),\n",
       " ('Anna',),\n",
       " ('Birgit',),\n",
       " ('Caroline',),\n",
       " ('Elaine',),\n",
       " ('Eva',),\n",
       " ('Eva',),\n",
       " ('Eva',),\n",
       " ('Frida',),\n",
       " ('Helena',),\n",
       " ('Jenny',),\n",
       " ('Karin',),\n",
       " ('Karolin',),\n",
       " ('Lisa',),\n",
       " ('Lotta',),\n",
       " ('Lotta',),\n",
       " ('Maria',),\n",
       " ('Maria',),\n",
       " ('Marie',),\n",
       " ('Märit',),\n",
       " ('Sofia',),\n",
       " ('Susanne',),\n",
       " ('Tina',),\n",
       " ('Ulrika',),\n",
       " ('Ylva',)]"
      ]
     },
     "execution_count": 29,
     "metadata": {},
     "output_type": "execute_result"
    }
   ],
   "source": [
    "%%sql\n",
    "select first_name \n",
    "from students\n",
    "where substr(ssn, 10, 1)%2 = 0\n",
    "order by first_name"
   ]
  },
  {
   "cell_type": "markdown",
   "metadata": {},
   "source": [
    "e) How many students are registered in the database?"
   ]
  },
  {
   "cell_type": "code",
   "execution_count": 31,
   "metadata": {
    "attributes": {
     "classes": [
      "clear"
     ],
     "id": ""
    }
   },
   "outputs": [
    {
     "name": "stdout",
     "output_type": "stream",
     "text": [
      " * sqlite:///lab1.sqlite\n",
      "Done.\n"
     ]
    },
    {
     "data": {
      "text/html": [
       "<table>\n",
       "    <tr>\n",
       "        <th>students_registered</th>\n",
       "    </tr>\n",
       "    <tr>\n",
       "        <td>72</td>\n",
       "    </tr>\n",
       "</table>"
      ],
      "text/plain": [
       "[(72,)]"
      ]
     },
     "execution_count": 31,
     "metadata": {},
     "output_type": "execute_result"
    }
   ],
   "source": [
    "%%sql \n",
    "select count() as students_registered\n",
    "from students"
   ]
  },
  {
   "cell_type": "markdown",
   "metadata": {},
   "source": [
    "f) Which courses are offered by the department of\n",
    "   Mathematics (their course codes have the form `FMAxxx`)?\n",
    "   [22]"
   ]
  },
  {
   "cell_type": "code",
   "execution_count": 34,
   "metadata": {
    "attributes": {
     "classes": [
      "clear"
     ],
     "id": ""
    }
   },
   "outputs": [
    {
     "name": "stdout",
     "output_type": "stream",
     "text": [
      " * sqlite:///lab1.sqlite\n",
      "Done.\n"
     ]
    },
    {
     "data": {
      "text/html": [
       "<table>\n",
       "    <tr>\n",
       "        <th>course_name</th>\n",
       "        <th>course_code</th>\n",
       "    </tr>\n",
       "    <tr>\n",
       "        <td>Kontinuerliga system</td>\n",
       "        <td>FMA021</td>\n",
       "    </tr>\n",
       "    <tr>\n",
       "        <td>Optimering</td>\n",
       "        <td>FMA051</td>\n",
       "    </tr>\n",
       "    <tr>\n",
       "        <td>Diskret matematik</td>\n",
       "        <td>FMA091</td>\n",
       "    </tr>\n",
       "    <tr>\n",
       "        <td>Matematiska strukturer</td>\n",
       "        <td>FMA111</td>\n",
       "    </tr>\n",
       "    <tr>\n",
       "        <td>Matristeori</td>\n",
       "        <td>FMA120</td>\n",
       "    </tr>\n",
       "    <tr>\n",
       "        <td>Matristeori, projektdel</td>\n",
       "        <td>FMA125</td>\n",
       "    </tr>\n",
       "    <tr>\n",
       "        <td>Geometri</td>\n",
       "        <td>FMA135</td>\n",
       "    </tr>\n",
       "    <tr>\n",
       "        <td>Olinjära dynamiska system</td>\n",
       "        <td>FMA140</td>\n",
       "    </tr>\n",
       "    <tr>\n",
       "        <td>Olinjära dynamiska system, projektdel</td>\n",
       "        <td>FMA145</td>\n",
       "    </tr>\n",
       "    <tr>\n",
       "        <td>Bildanalys</td>\n",
       "        <td>FMA170</td>\n",
       "    </tr>\n",
       "    <tr>\n",
       "        <td>Bildanalys, projektdel</td>\n",
       "        <td>FMA175</td>\n",
       "    </tr>\n",
       "    <tr>\n",
       "        <td>Variationskalkyl</td>\n",
       "        <td>FMA200</td>\n",
       "    </tr>\n",
       "    <tr>\n",
       "        <td>Linjär och kombinatorisk optimering</td>\n",
       "        <td>FMA240</td>\n",
       "    </tr>\n",
       "    <tr>\n",
       "        <td>Datorseende</td>\n",
       "        <td>FMA270</td>\n",
       "    </tr>\n",
       "    <tr>\n",
       "        <td>Datorseende, projektdel</td>\n",
       "        <td>FMA272</td>\n",
       "    </tr>\n",
       "    <tr>\n",
       "        <td>Linjär algebra</td>\n",
       "        <td>FMA420</td>\n",
       "    </tr>\n",
       "    <tr>\n",
       "        <td>Flerdimensionell analys</td>\n",
       "        <td>FMA430</td>\n",
       "    </tr>\n",
       "    <tr>\n",
       "        <td>Endimensionell analys</td>\n",
       "        <td>FMAA01</td>\n",
       "    </tr>\n",
       "    <tr>\n",
       "        <td>Matematik - Funktionsteori</td>\n",
       "        <td>FMAF01</td>\n",
       "    </tr>\n",
       "    <tr>\n",
       "        <td>Matematik - System och transformer</td>\n",
       "        <td>FMAF05</td>\n",
       "    </tr>\n",
       "    <tr>\n",
       "        <td>Tillämpad matematik - Linjära system</td>\n",
       "        <td>FMAF10</td>\n",
       "    </tr>\n",
       "    <tr>\n",
       "        <td>Algebraiska strukturer</td>\n",
       "        <td>FMAN10</td>\n",
       "    </tr>\n",
       "</table>"
      ],
      "text/plain": [
       "[('Kontinuerliga system', 'FMA021'),\n",
       " ('Optimering', 'FMA051'),\n",
       " ('Diskret matematik', 'FMA091'),\n",
       " ('Matematiska strukturer', 'FMA111'),\n",
       " ('Matristeori', 'FMA120'),\n",
       " ('Matristeori, projektdel', 'FMA125'),\n",
       " ('Geometri', 'FMA135'),\n",
       " ('Olinjära dynamiska system', 'FMA140'),\n",
       " ('Olinjära dynamiska system, projektdel', 'FMA145'),\n",
       " ('Bildanalys', 'FMA170'),\n",
       " ('Bildanalys, projektdel', 'FMA175'),\n",
       " ('Variationskalkyl', 'FMA200'),\n",
       " ('Linjär och kombinatorisk optimering', 'FMA240'),\n",
       " ('Datorseende', 'FMA270'),\n",
       " ('Datorseende, projektdel', 'FMA272'),\n",
       " ('Linjär algebra', 'FMA420'),\n",
       " ('Flerdimensionell analys', 'FMA430'),\n",
       " ('Endimensionell analys', 'FMAA01'),\n",
       " ('Matematik - Funktionsteori', 'FMAF01'),\n",
       " ('Matematik - System och transformer', 'FMAF05'),\n",
       " ('Tillämpad matematik - Linjära system', 'FMAF10'),\n",
       " ('Algebraiska strukturer', 'FMAN10')]"
      ]
     },
     "execution_count": 34,
     "metadata": {},
     "output_type": "execute_result"
    }
   ],
   "source": [
    "%%sql\n",
    "select course_name, course_code\n",
    "from courses\n",
    "where substr(course_code, 1, 3) = 'FMA'"
   ]
  },
  {
   "cell_type": "markdown",
   "metadata": {},
   "source": [
    "g) Which courses give more than 7.5 credits? [16]"
   ]
  },
  {
   "cell_type": "code",
   "execution_count": 36,
   "metadata": {
    "attributes": {
     "classes": [
      "clear"
     ],
     "id": ""
    }
   },
   "outputs": [
    {
     "name": "stdout",
     "output_type": "stream",
     "text": [
      " * sqlite:///lab1.sqlite\n",
      "Done.\n"
     ]
    },
    {
     "data": {
      "text/html": [
       "<table>\n",
       "    <tr>\n",
       "        <th>course_name</th>\n",
       "        <th>credits</th>\n",
       "    </tr>\n",
       "    <tr>\n",
       "        <td>Coachning av programvaruteam</td>\n",
       "        <td>9.0</td>\n",
       "    </tr>\n",
       "    <tr>\n",
       "        <td>Datorer i system</td>\n",
       "        <td>8.0</td>\n",
       "    </tr>\n",
       "    <tr>\n",
       "        <td>Tillämpad mekatronik</td>\n",
       "        <td>10.0</td>\n",
       "    </tr>\n",
       "    <tr>\n",
       "        <td>Mekatronik, industriell produktframtagning</td>\n",
       "        <td>10.0</td>\n",
       "    </tr>\n",
       "    <tr>\n",
       "        <td>Digitalteknik</td>\n",
       "        <td>9.0</td>\n",
       "    </tr>\n",
       "    <tr>\n",
       "        <td>Digitala bilder – kompression</td>\n",
       "        <td>9.0</td>\n",
       "    </tr>\n",
       "    <tr>\n",
       "        <td>Elektromagnetisk fältteori</td>\n",
       "        <td>9.0</td>\n",
       "    </tr>\n",
       "    <tr>\n",
       "        <td>Elektronik</td>\n",
       "        <td>8.0</td>\n",
       "    </tr>\n",
       "    <tr>\n",
       "        <td>Introduktionskurs i kinesiska för civilingenjörer</td>\n",
       "        <td>15.0</td>\n",
       "    </tr>\n",
       "    <tr>\n",
       "        <td>Introduktionskurs i kinesiska för civilingenjörer, del 2</td>\n",
       "        <td>15.0</td>\n",
       "    </tr>\n",
       "    <tr>\n",
       "        <td>Fysik</td>\n",
       "        <td>11.0</td>\n",
       "    </tr>\n",
       "    <tr>\n",
       "        <td>Endimensionell analys</td>\n",
       "        <td>15.0</td>\n",
       "    </tr>\n",
       "    <tr>\n",
       "        <td>Matematisk statistik, allmän kurs</td>\n",
       "        <td>9.0</td>\n",
       "    </tr>\n",
       "    <tr>\n",
       "        <td>Realtidssystem</td>\n",
       "        <td>10.0</td>\n",
       "    </tr>\n",
       "    <tr>\n",
       "        <td>Japanska för tekniker</td>\n",
       "        <td>15.0</td>\n",
       "    </tr>\n",
       "    <tr>\n",
       "        <td>Industriell ekonomi, allmän kurs</td>\n",
       "        <td>9.0</td>\n",
       "    </tr>\n",
       "</table>"
      ],
      "text/plain": [
       "[('Coachning av programvaruteam', 9.0),\n",
       " ('Datorer i system', 8.0),\n",
       " ('Tillämpad mekatronik', 10.0),\n",
       " ('Mekatronik, industriell produktframtagning', 10.0),\n",
       " ('Digitalteknik', 9.0),\n",
       " ('Digitala bilder – kompression', 9.0),\n",
       " ('Elektromagnetisk fältteori', 9.0),\n",
       " ('Elektronik', 8.0),\n",
       " ('Introduktionskurs i kinesiska för civilingenjörer', 15.0),\n",
       " ('Introduktionskurs i kinesiska för civilingenjörer, del 2', 15.0),\n",
       " ('Fysik', 11.0),\n",
       " ('Endimensionell analys', 15.0),\n",
       " ('Matematisk statistik, allmän kurs', 9.0),\n",
       " ('Realtidssystem', 10.0),\n",
       " ('Japanska för tekniker', 15.0),\n",
       " ('Industriell ekonomi, allmän kurs', 9.0)]"
      ]
     },
     "execution_count": 36,
     "metadata": {},
     "output_type": "execute_result"
    }
   ],
   "source": [
    "%%sql\n",
    "select course_name, credits\n",
    "from courses\n",
    "where credits > 7.5"
   ]
  },
  {
   "cell_type": "markdown",
   "metadata": {},
   "source": [
    "h) How may courses are there for each level (`G1`, `G2`, and\n",
    "   `A`)?"
   ]
  },
  {
   "cell_type": "code",
   "execution_count": 40,
   "metadata": {
    "attributes": {
     "classes": [
      "clear"
     ],
     "id": ""
    }
   },
   "outputs": [
    {
     "name": "stdout",
     "output_type": "stream",
     "text": [
      " * sqlite:///lab1.sqlite\n",
      "Done.\n"
     ]
    },
    {
     "data": {
      "text/html": [
       "<table>\n",
       "    <tr>\n",
       "        <th>level</th>\n",
       "        <th>count()</th>\n",
       "    </tr>\n",
       "    <tr>\n",
       "        <td>A</td>\n",
       "        <td>87</td>\n",
       "    </tr>\n",
       "    <tr>\n",
       "        <td>G1</td>\n",
       "        <td>31</td>\n",
       "    </tr>\n",
       "    <tr>\n",
       "        <td>G2</td>\n",
       "        <td>60</td>\n",
       "    </tr>\n",
       "</table>"
      ],
      "text/plain": [
       "[('A', 87), ('G1', 31), ('G2', 60)]"
      ]
     },
     "execution_count": 40,
     "metadata": {},
     "output_type": "execute_result"
    }
   ],
   "source": [
    "%%sql\n",
    "select level, count()\n",
    "from courses\n",
    "group by level"
   ]
  },
  {
   "cell_type": "markdown",
   "metadata": {},
   "source": [
    "In the next few problems, we'll look at the results of the\n",
    "student with the social security number 910101–1234 -- to\n",
    "make things a lot easier, you can create a `VIEW` with all\n",
    "his results (see lecture 3)."
   ]
  },
  {
   "cell_type": "code",
   "execution_count": null,
   "metadata": {
    "attributes": {
     "classes": [
      "clear"
     ],
     "id": ""
    }
   },
   "outputs": [],
   "source": [
    "%%sql\n",
    "DROP VIEW IF EXISTS students;\n",
    "CREATE VIEW student(ssn, first_name, last_name,) AS"
   ]
  },
  {
   "cell_type": "markdown",
   "metadata": {},
   "source": [
    "i) Which courses (course codes only) have been taken by the\n",
    "   student with the social security number 910101–1234? [35]"
   ]
  },
  {
   "cell_type": "code",
   "execution_count": null,
   "metadata": {
    "attributes": {
     "classes": [
      "clear"
     ],
     "id": ""
    }
   },
   "outputs": [],
   "source": [
    "%%sql\n"
   ]
  },
  {
   "cell_type": "markdown",
   "metadata": {},
   "source": [
    "j) What are the names of these courses, and how many credits\n",
    "   do they give?"
   ]
  },
  {
   "cell_type": "code",
   "execution_count": null,
   "metadata": {
    "attributes": {
     "classes": [
      "clear"
     ],
     "id": ""
    }
   },
   "outputs": [],
   "source": [
    "%%sql\n"
   ]
  },
  {
   "cell_type": "markdown",
   "metadata": {},
   "source": [
    "k) How many credits has the student taken?"
   ]
  },
  {
   "cell_type": "code",
   "execution_count": null,
   "metadata": {
    "attributes": {
     "classes": [
      "clear"
     ],
     "id": ""
    }
   },
   "outputs": [],
   "source": [
    "%%sql\n"
   ]
  },
  {
   "cell_type": "markdown",
   "metadata": {},
   "source": [
    "l) Which is the student’s grade average? Try to calculate\n",
    "both the unweighted and the weighted average."
   ]
  },
  {
   "cell_type": "code",
   "execution_count": null,
   "metadata": {
    "attributes": {
     "classes": [
      "clear"
     ],
     "id": ""
    }
   },
   "outputs": [],
   "source": [
    "%%sql\n"
   ]
  },
  {
   "cell_type": "markdown",
   "metadata": {},
   "source": [
    "m) Which students have taken 0 credits? [11] This problem\n",
    "   can be solved in several ways, first do it with an outer\n",
    "   join:"
   ]
  },
  {
   "cell_type": "code",
   "execution_count": null,
   "metadata": {
    "attributes": {
     "classes": [
      "clear"
     ],
     "id": ""
    }
   },
   "outputs": [],
   "source": [
    "%%sql\n"
   ]
  },
  {
   "cell_type": "markdown",
   "metadata": {},
   "source": [
    "Now do the same thing using a subquery:"
   ]
  },
  {
   "cell_type": "code",
   "execution_count": null,
   "metadata": {
    "attributes": {
     "classes": [
      "clear"
     ],
     "id": ""
    }
   },
   "outputs": [],
   "source": [
    "%%sql\n"
   ]
  },
  {
   "cell_type": "markdown",
   "metadata": {},
   "source": [
    "n) List the names and average grades of the 10 students with\n",
    "   the highest grade average? You can use the unweighted\n",
    "   average."
   ]
  },
  {
   "cell_type": "code",
   "execution_count": null,
   "metadata": {
    "attributes": {
     "classes": [
      "clear"
     ],
     "id": ""
    }
   },
   "outputs": [],
   "source": [
    "%%sql\n"
   ]
  },
  {
   "cell_type": "markdown",
   "metadata": {},
   "source": [
    "o) List the social security number and total number of\n",
    "   credits for all students. Students with no credits should\n",
    "   be included in the listing, with 0 credits (not `NULL`).\n",
    "\n",
    "   If you do this with an outer join (and I recommend you\n",
    "   try it!) you might want to use the function\n",
    "   `coalesce(v1, v2, ...)`; it returns the first value which\n",
    "   is not `NULL`, so `coalesce(avg(grade), 0)` would give 0\n",
    "   if the were no grades (i.e., if `grade` were `NULL`), you\n",
    "   can also try the `ifnull` function.\n",
    "\n",
    "   (It may be a little bit tricky to get this query right,\n",
    "   if you're missing the students with 0 credits, don't\n",
    "   worry, your TA will help you get it right). [72]"
   ]
  },
  {
   "cell_type": "code",
   "execution_count": null,
   "metadata": {
    "attributes": {
     "classes": [
      "clear"
     ],
     "id": ""
    }
   },
   "outputs": [],
   "source": [
    "%%sql\n"
   ]
  },
  {
   "cell_type": "markdown",
   "metadata": {},
   "source": [
    "p) Is there more than one student with the same name? If so,\n",
    "   who are these students and what are their social security\n",
    "   numbers? [7]\n",
    "\n",
    "   As usual there are several ways of solving this, try to\n",
    "   solve it using a `WITH`-statement where you create a\n",
    "   table with all duplicate names, and then use it in a\n",
    "   `JOIN`:"
   ]
  },
  {
   "cell_type": "code",
   "execution_count": null,
   "metadata": {
    "attributes": {
     "classes": [
      "clear"
     ],
     "id": ""
    }
   },
   "outputs": [],
   "source": [
    "%%sql\n"
   ]
  },
  {
   "cell_type": "markdown",
   "metadata": {},
   "source": [
    "q) What 5 courses have the highest grade average?"
   ]
  },
  {
   "cell_type": "code",
   "execution_count": null,
   "metadata": {
    "attributes": {
     "classes": [
      "clear"
     ],
     "id": ""
    }
   },
   "outputs": [],
   "source": [
    "%%sql\n"
   ]
  }
 ],
 "metadata": {
  "kernelspec": {
   "display_name": "Python 3",
   "language": "python",
   "name": "python3"
  },
  "language_info": {
   "codemirror_mode": {
    "name": "ipython",
    "version": 3
   },
   "file_extension": ".py",
   "mimetype": "text/x-python",
   "name": "python",
   "nbconvert_exporter": "python",
   "pygments_lexer": "ipython3",
   "version": "3.7.3"
  }
 },
 "nbformat": 4,
 "nbformat_minor": 4
}
